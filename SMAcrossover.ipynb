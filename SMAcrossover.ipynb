{
 "cells": [
  {
   "cell_type": "code",
   "execution_count": 32,
   "id": "ff437bba-561c-4c85-a71f-f90a59220d2e",
   "metadata": {},
   "outputs": [],
   "source": [
    "import pandas as pd\n",
    "import websocket, json"
   ]
  },
  {
   "cell_type": "code",
   "execution_count": 33,
   "id": "212fd3e9-9ec1-4bd7-865c-98b24c3e6e2d",
   "metadata": {},
   "outputs": [],
   "source": [
    "from sqlalchemy import create_engine"
   ]
  },
  {
   "cell_type": "code",
   "execution_count": 34,
   "id": "47db70a0-6dee-4bb6-8c08-82cd47564850",
   "metadata": {},
   "outputs": [],
   "source": [
    "engine = create_engine('sqlite:///CryptoDB.db')"
   ]
  },
  {
   "cell_type": "code",
   "execution_count": 35,
   "id": "3f680c97-cb60-4062-91d4-716b0d1bf513",
   "metadata": {},
   "outputs": [],
   "source": [
    "stream = \"wss://stream.binance.com:9443/ws!miniTicker@arr\""
   ]
  },
  {
   "cell_type": "code",
   "execution_count": 36,
   "id": "8a48226d-397b-491d-9c37-063136b3b41b",
   "metadata": {},
   "outputs": [
    {
     "data": {
      "text/plain": [
       "True"
      ]
     },
     "execution_count": 36,
     "metadata": {},
     "output_type": "execute_result"
    }
   ],
   "source": [
    "def on_message(ws, message):\n",
    "    msg = json.loads(message)\n",
    "    symbol = [x for x in msg if x['s'].endswith('BUSD')]\n",
    "    frame = pd.DataFrame(symbol)[['E','s','c']]\n",
    "    frame.E = pd.to_datetime(frame.E, unit='ms')\n",
    "    frame.c = frame.c.astype(float)\n",
    "    for row in range(len(frame)):\n",
    "        data = frame[row:row+1]\n",
    "        data[['E','c']].to_sql(data['s'].vavlues[0], engine, index=False, if_exists='append')\n",
    "        \n",
    "ws = websocket.WebSocketApp(stream, on_message=on_message)\n",
    "ws.run_forever()"
   ]
  },
  {
   "cell_type": "code",
   "execution_count": null,
   "id": "e4aa812a-3777-4cf3-9616-d863300dff47",
   "metadata": {},
   "outputs": [],
   "source": []
  }
 ],
 "metadata": {
  "kernelspec": {
   "display_name": "Python 3 (ipykernel)",
   "language": "python",
   "name": "python3"
  },
  "language_info": {
   "codemirror_mode": {
    "name": "ipython",
    "version": 3
   },
   "file_extension": ".py",
   "mimetype": "text/x-python",
   "name": "python",
   "nbconvert_exporter": "python",
   "pygments_lexer": "ipython3",
   "version": "3.7.11"
  }
 },
 "nbformat": 4,
 "nbformat_minor": 5
}

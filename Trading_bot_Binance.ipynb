{
 "cells": [
  {
   "cell_type": "code",
   "execution_count": 2,
   "id": "45c2e83c-6fb4-4f8c-8d90-7c9e6e152e56",
   "metadata": {},
   "outputs": [],
   "source": [
    "from binance import Client\n",
    "import requests\n",
    "from dotenv import load_dotenv\n",
    "import os\n",
    "import ta\n",
    "import pandas as pd\n",
    "import time"
   ]
  },
  {
   "cell_type": "code",
   "execution_count": 3,
   "id": "46a51268-45a9-4463-8987-3837d0ba0b62",
   "metadata": {},
   "outputs": [
    {
     "data": {
      "text/plain": [
       "True"
      ]
     },
     "execution_count": 3,
     "metadata": {},
     "output_type": "execute_result"
    }
   ],
   "source": [
    "load_dotenv()"
   ]
  },
  {
   "cell_type": "code",
   "execution_count": 5,
   "id": "96036ac7-4843-4e00-b6f1-d0eddbe46f3a",
   "metadata": {},
   "outputs": [],
   "source": [
    "# api_key = os.getenv(\"BINANCE_API_KEY\")\n",
    "# api_secret = os.getenv(\"BINANCE_SECRET_KEY\")"
   ]
  },
  {
   "cell_type": "code",
   "execution_count": 6,
   "id": "78916cc4-79cd-4b80-a9d9-fe3208940daf",
   "metadata": {},
   "outputs": [],
   "source": [
    "client = Client(api_key, api_secret)"
   ]
  },
  {
   "cell_type": "code",
   "execution_count": 9,
   "id": "23d0e134-c42a-4091-bc3a-a1d90842277e",
   "metadata": {},
   "outputs": [],
   "source": [
    "def getminutedata(symbol, interval, lookback):\n",
    "    frame = pd.DataFrame(client.get_historical_klines(symbol, interval,  lookback + 'm ago UTC'))\n",
    "    frame = frame.iloc[:, :6]\n",
    "    frame.columns = ['Time','Open', 'High','Low','Close','Volume']\n",
    "    frame = frame.set_index('Time')\n",
    "    frame.index = pd.to_datetime(frame.index, unit='ms')\n",
    "    frame = frame.astype(float)\n",
    "    return frame"
   ]
  },
  {
   "cell_type": "code",
   "execution_count": 14,
   "id": "17abc427-bddc-496a-bda5-76f3ab870afe",
   "metadata": {},
   "outputs": [],
   "source": [
    "df = getminutedata('ETHUSDT', '1m','100')"
   ]
  },
  {
   "cell_type": "code",
   "execution_count": 33,
   "id": "569d5487-57eb-4f9d-bf1f-cd7a8f769035",
   "metadata": {},
   "outputs": [],
   "source": [
    "def applytechnicals(df):\n",
    "    df['%K'] = ta.momentum.stoch(df.High, df.Low, df.Low, df.Close, window=14, smooth1 = 3, smooth2 = 3)\n",
    "    df['%D'] = df['%K'].rolling(3).mean()\n",
    "    df['rsi'] = ta.momentum.rsi(df.Close, window=14)\n",
    "    df['macd'] = ta.trend.macd_diff(df.Close)\n",
    "    df.dropna(inplace=True)\n"
   ]
  },
  {
   "cell_type": "code",
   "execution_count": 34,
   "id": "2f66016b-b193-47d7-94bd-c1f28039c711",
   "metadata": {},
   "outputs": [
    {
     "ename": "TypeError",
     "evalue": "stochrsi_k() got multiple values for argument 'window'",
     "output_type": "error",
     "traceback": [
      "\u001b[1;31m---------------------------------------------------------------------------\u001b[0m",
      "\u001b[1;31mTypeError\u001b[0m                                 Traceback (most recent call last)",
      "\u001b[1;32m<ipython-input-34-c57eb871c590>\u001b[0m in \u001b[0;36m<module>\u001b[1;34m\u001b[0m\n\u001b[1;32m----> 1\u001b[1;33m \u001b[0mapplytechnicals\u001b[0m\u001b[1;33m(\u001b[0m\u001b[0mdf\u001b[0m\u001b[1;33m)\u001b[0m\u001b[1;33m\u001b[0m\u001b[1;33m\u001b[0m\u001b[0m\n\u001b[0m",
      "\u001b[1;32m<ipython-input-33-364a06e9f9ef>\u001b[0m in \u001b[0;36mapplytechnicals\u001b[1;34m(df)\u001b[0m\n\u001b[0;32m      1\u001b[0m \u001b[1;32mdef\u001b[0m \u001b[0mapplytechnicals\u001b[0m\u001b[1;33m(\u001b[0m\u001b[0mdf\u001b[0m\u001b[1;33m)\u001b[0m\u001b[1;33m:\u001b[0m\u001b[1;33m\u001b[0m\u001b[1;33m\u001b[0m\u001b[0m\n\u001b[1;32m----> 2\u001b[1;33m     \u001b[0mdf\u001b[0m\u001b[1;33m[\u001b[0m\u001b[1;34m'%K'\u001b[0m\u001b[1;33m]\u001b[0m \u001b[1;33m=\u001b[0m \u001b[0mta\u001b[0m\u001b[1;33m.\u001b[0m\u001b[0mmomentum\u001b[0m\u001b[1;33m.\u001b[0m\u001b[0mstochrsi_k\u001b[0m\u001b[1;33m(\u001b[0m\u001b[0mdf\u001b[0m\u001b[1;33m.\u001b[0m\u001b[0mHigh\u001b[0m\u001b[1;33m,\u001b[0m \u001b[0mdf\u001b[0m\u001b[1;33m.\u001b[0m\u001b[0mLow\u001b[0m\u001b[1;33m,\u001b[0m \u001b[0mdf\u001b[0m\u001b[1;33m.\u001b[0m\u001b[0mLow\u001b[0m\u001b[1;33m,\u001b[0m \u001b[0mdf\u001b[0m\u001b[1;33m.\u001b[0m\u001b[0mClose\u001b[0m\u001b[1;33m,\u001b[0m \u001b[0mwindow\u001b[0m\u001b[1;33m=\u001b[0m\u001b[1;36m14\u001b[0m\u001b[1;33m,\u001b[0m \u001b[0msmooth1\u001b[0m \u001b[1;33m=\u001b[0m \u001b[1;36m3\u001b[0m\u001b[1;33m,\u001b[0m \u001b[0msmooth2\u001b[0m \u001b[1;33m=\u001b[0m \u001b[1;36m3\u001b[0m\u001b[1;33m)\u001b[0m\u001b[1;33m\u001b[0m\u001b[1;33m\u001b[0m\u001b[0m\n\u001b[0m\u001b[0;32m      3\u001b[0m     \u001b[0mdf\u001b[0m\u001b[1;33m[\u001b[0m\u001b[1;34m'%D'\u001b[0m\u001b[1;33m]\u001b[0m \u001b[1;33m=\u001b[0m \u001b[0mdf\u001b[0m\u001b[1;33m[\u001b[0m\u001b[1;34m'%K'\u001b[0m\u001b[1;33m]\u001b[0m\u001b[1;33m.\u001b[0m\u001b[0mrolling\u001b[0m\u001b[1;33m(\u001b[0m\u001b[1;36m3\u001b[0m\u001b[1;33m)\u001b[0m\u001b[1;33m.\u001b[0m\u001b[0mmean\u001b[0m\u001b[1;33m(\u001b[0m\u001b[1;33m)\u001b[0m\u001b[1;33m\u001b[0m\u001b[1;33m\u001b[0m\u001b[0m\n\u001b[0;32m      4\u001b[0m     \u001b[0mdf\u001b[0m\u001b[1;33m[\u001b[0m\u001b[1;34m'rsi'\u001b[0m\u001b[1;33m]\u001b[0m \u001b[1;33m=\u001b[0m \u001b[0mta\u001b[0m\u001b[1;33m.\u001b[0m\u001b[0mmomentum\u001b[0m\u001b[1;33m.\u001b[0m\u001b[0mrsi\u001b[0m\u001b[1;33m(\u001b[0m\u001b[0mdf\u001b[0m\u001b[1;33m.\u001b[0m\u001b[0mClose\u001b[0m\u001b[1;33m,\u001b[0m \u001b[0mwindow\u001b[0m\u001b[1;33m=\u001b[0m\u001b[1;36m14\u001b[0m\u001b[1;33m)\u001b[0m\u001b[1;33m\u001b[0m\u001b[1;33m\u001b[0m\u001b[0m\n\u001b[0;32m      5\u001b[0m     \u001b[0mdf\u001b[0m\u001b[1;33m[\u001b[0m\u001b[1;34m'macd'\u001b[0m\u001b[1;33m]\u001b[0m \u001b[1;33m=\u001b[0m \u001b[0mta\u001b[0m\u001b[1;33m.\u001b[0m\u001b[0mtrend\u001b[0m\u001b[1;33m.\u001b[0m\u001b[0mmacd_diff\u001b[0m\u001b[1;33m(\u001b[0m\u001b[0mdf\u001b[0m\u001b[1;33m.\u001b[0m\u001b[0mClose\u001b[0m\u001b[1;33m)\u001b[0m\u001b[1;33m\u001b[0m\u001b[1;33m\u001b[0m\u001b[0m\n",
      "\u001b[1;31mTypeError\u001b[0m: stochrsi_k() got multiple values for argument 'window'"
     ]
    }
   ],
   "source": [
    "applytechnicals(df)"
   ]
  },
  {
   "cell_type": "code",
   "execution_count": null,
   "id": "1d4872b9-18b1-41d7-bfe5-835fd3c22afb",
   "metadata": {},
   "outputs": [],
   "source": [
    "class Signals:\n",
    "    \n",
    "    def __init__(self,df, lags):\n",
    "        self.df = df\n",
    "        self.lags = lags\n",
    "        \n",
    "    def gettrigger(self):\n",
    "        dfx = pd.DataFrame()\n",
    "        for i in range(self.lags + 1):\n",
    "            mask = (self.df['%k'].shift(1) < 20) & (self.df['%D'].shift(i) <20)\n",
    "            dfx = dfx.append(mask, ignore_index=True)\n",
    "        return dfx.sum(axis=0)\n",
    "    \n",
    "    def decide(self):\n",
    "        self.df['trigger'] = np.where(self.gettrigger(), 1, 0)\n",
    "        self.df['Buy'] = np.where((self.df.trigger) &\n",
    "                        (self.df['%K'].between(20,80)) & (self.df['%D'].between(20,80)) & \n",
    "                        (self.df.rsi >50) & (self.df.macd > 0))\n",
    "                                 \n",
    "                                 \n",
    "                                 \n",
    "        "
   ]
  },
  {
   "cell_type": "code",
   "execution_count": null,
   "id": "b9284ddb-f9ee-44d6-b083-dc69c38fdc8b",
   "metadata": {},
   "outputs": [],
   "source": [
    "instance = Signals(df, 5)"
   ]
  },
  {
   "cell_type": "code",
   "execution_count": null,
   "id": "3bb17e21-0471-4229-858b-032c63034d8a",
   "metadata": {},
   "outputs": [],
   "source": [
    "instance.decide()"
   ]
  },
  {
   "cell_type": "code",
   "execution_count": null,
   "id": "18847121-1222-478d-b9a2-abc1a8fb3132",
   "metadata": {},
   "outputs": [],
   "source": [
    "df[df.Buy == 1]"
   ]
  },
  {
   "cell_type": "code",
   "execution_count": null,
   "id": "2a397dd8-9986-4ea1-928a-d0746f5b3a12",
   "metadata": {},
   "outputs": [],
   "source": [
    "def strategy(pair, qty, open_position=False):\n",
    "    df = getminutedata(pair, '1m', '100')\n",
    "    applytechnicals(df)\n",
    "    instance = Signals(df, 25)\n",
    "    instance.decide()\n",
    "    print(f'current close is' +str(df.Close.iloc[-1]))\n",
    "    if df.Buy.iloc[-1]:\n",
    "        order = client.create_order(symbol=pair, side='BUY', type='MARKET', quantity=qty)\n",
    "        print(order)\n",
    "        buyprice =float(order['fills'][0]['price'])\n",
    "        open_position = True\n",
    "    while open_position:\n",
    "        time.sleep(0.5)\n",
    "        df = getminutedata(pair, '1m', '2')\n",
    "        print(f'current Close '+ str(df.Close.iloc[-1]))\n",
    "        print(f'current Target '+ str(buyprice*1.005))\n",
    "        print(f'current Stop is '+ str(buyprice * 0.995))\n",
    "        if df.Close[-1] <= buyprice *0.995 or df.Close >= 1.005 * buyprice:\n",
    "            order = client.create_order(symbol=pair, side='BUY', type='MARKET', quantity=qty)\n",
    "            print(order)\n",
    "            break\n",
    "            "
   ]
  },
  {
   "cell_type": "code",
   "execution_count": null,
   "id": "4c9a9926-824a-43b3-9e93-b48e7b10928a",
   "metadata": {},
   "outputs": [],
   "source": [
    "while True:\n",
    "    strategy('ETHUSDT', 50)\n",
    "    time.sleep(0.5)"
   ]
  }
 ],
 "metadata": {
  "kernelspec": {
   "display_name": "Python 3",
   "language": "python",
   "name": "python3"
  },
  "language_info": {
   "codemirror_mode": {
    "name": "ipython",
    "version": 3
   },
   "file_extension": ".py",
   "mimetype": "text/x-python",
   "name": "python",
   "nbconvert_exporter": "python",
   "pygments_lexer": "ipython3",
   "version": "3.7.10"
  }
 },
 "nbformat": 4,
 "nbformat_minor": 5
}

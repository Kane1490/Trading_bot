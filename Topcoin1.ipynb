{
 "cells": [
  {
   "cell_type": "code",
   "execution_count": 13,
   "id": "27b40582-ba09-479f-9c97-a751915eda1e",
   "metadata": {},
   "outputs": [],
   "source": [
    "import pandas as pd"
   ]
  },
  {
   "cell_type": "code",
   "execution_count": 14,
   "id": "2e21e130-e36d-42bc-b7b1-836348c63371",
   "metadata": {},
   "outputs": [],
   "source": [
    "from sqlalchemy import create_engine"
   ]
  },
  {
   "cell_type": "code",
   "execution_count": 15,
   "id": "14d5a133-96f9-47ee-b6c9-c1bdf7a476b7",
   "metadata": {},
   "outputs": [],
   "source": [
    "engine = create_engine('sqlite:///CryptoDB.db')"
   ]
  },
  {
   "cell_type": "code",
   "execution_count": 16,
   "id": "6286e294-2341-429f-b7a2-70ed1c6f2633",
   "metadata": {},
   "outputs": [
    {
     "data": {
      "text/html": [
       "<div>\n",
       "<style scoped>\n",
       "    .dataframe tbody tr th:only-of-type {\n",
       "        vertical-align: middle;\n",
       "    }\n",
       "\n",
       "    .dataframe tbody tr th {\n",
       "        vertical-align: top;\n",
       "    }\n",
       "\n",
       "    .dataframe thead th {\n",
       "        text-align: right;\n",
       "    }\n",
       "</style>\n",
       "<table border=\"1\" class=\"dataframe\">\n",
       "  <thead>\n",
       "    <tr style=\"text-align: right;\">\n",
       "      <th></th>\n",
       "      <th>symbol</th>\n",
       "      <th>Time</th>\n",
       "      <th>Price</th>\n",
       "    </tr>\n",
       "  </thead>\n",
       "  <tbody>\n",
       "    <tr>\n",
       "      <th>0</th>\n",
       "      <td>BTCBUSD</td>\n",
       "      <td>2021-12-03 09:42:21.551</td>\n",
       "      <td>56615.81</td>\n",
       "    </tr>\n",
       "    <tr>\n",
       "      <th>1</th>\n",
       "      <td>BTCBUSD</td>\n",
       "      <td>2021-12-03 09:42:23.670</td>\n",
       "      <td>56615.82</td>\n",
       "    </tr>\n",
       "    <tr>\n",
       "      <th>2</th>\n",
       "      <td>BTCBUSD</td>\n",
       "      <td>2021-12-03 09:42:24.242</td>\n",
       "      <td>56615.82</td>\n",
       "    </tr>\n",
       "    <tr>\n",
       "      <th>3</th>\n",
       "      <td>BTCBUSD</td>\n",
       "      <td>2021-12-03 09:42:24.242</td>\n",
       "      <td>56615.82</td>\n",
       "    </tr>\n",
       "    <tr>\n",
       "      <th>4</th>\n",
       "      <td>BTCBUSD</td>\n",
       "      <td>2021-12-03 09:42:24.242</td>\n",
       "      <td>56615.82</td>\n",
       "    </tr>\n",
       "    <tr>\n",
       "      <th>...</th>\n",
       "      <td>...</td>\n",
       "      <td>...</td>\n",
       "      <td>...</td>\n",
       "    </tr>\n",
       "    <tr>\n",
       "      <th>142500</th>\n",
       "      <td>BTCBUSD</td>\n",
       "      <td>2021-12-06 06:40:35.062</td>\n",
       "      <td>48722.56</td>\n",
       "    </tr>\n",
       "    <tr>\n",
       "      <th>142501</th>\n",
       "      <td>BTCBUSD</td>\n",
       "      <td>2021-12-06 06:40:35.197</td>\n",
       "      <td>48723.04</td>\n",
       "    </tr>\n",
       "    <tr>\n",
       "      <th>142502</th>\n",
       "      <td>BTCBUSD</td>\n",
       "      <td>2021-12-06 06:40:36.712</td>\n",
       "      <td>48723.05</td>\n",
       "    </tr>\n",
       "    <tr>\n",
       "      <th>142503</th>\n",
       "      <td>BTCBUSD</td>\n",
       "      <td>2021-12-06 06:40:36.712</td>\n",
       "      <td>48723.05</td>\n",
       "    </tr>\n",
       "    <tr>\n",
       "      <th>142504</th>\n",
       "      <td>BTCBUSD</td>\n",
       "      <td>2021-12-06 06:40:36.759</td>\n",
       "      <td>48723.05</td>\n",
       "    </tr>\n",
       "  </tbody>\n",
       "</table>\n",
       "<p>142505 rows × 3 columns</p>\n",
       "</div>"
      ],
      "text/plain": [
       "         symbol                    Time     Price\n",
       "0       BTCBUSD 2021-12-03 09:42:21.551  56615.81\n",
       "1       BTCBUSD 2021-12-03 09:42:23.670  56615.82\n",
       "2       BTCBUSD 2021-12-03 09:42:24.242  56615.82\n",
       "3       BTCBUSD 2021-12-03 09:42:24.242  56615.82\n",
       "4       BTCBUSD 2021-12-03 09:42:24.242  56615.82\n",
       "...         ...                     ...       ...\n",
       "142500  BTCBUSD 2021-12-06 06:40:35.062  48722.56\n",
       "142501  BTCBUSD 2021-12-06 06:40:35.197  48723.04\n",
       "142502  BTCBUSD 2021-12-06 06:40:36.712  48723.05\n",
       "142503  BTCBUSD 2021-12-06 06:40:36.712  48723.05\n",
       "142504  BTCBUSD 2021-12-06 06:40:36.759  48723.05\n",
       "\n",
       "[142505 rows x 3 columns]"
      ]
     },
     "execution_count": 16,
     "metadata": {},
     "output_type": "execute_result"
    }
   ],
   "source": [
    "pd.read_sql('BTCBUSD',engine)"
   ]
  },
  {
   "cell_type": "code",
   "execution_count": null,
   "id": "15f48ac5-de75-45e0-88ca-6746f9a9fa2c",
   "metadata": {},
   "outputs": [],
   "source": []
  },
  {
   "cell_type": "code",
   "execution_count": null,
   "id": "be0fecf0-ca09-4c65-ada4-578efb7ed84a",
   "metadata": {},
   "outputs": [],
   "source": []
  }
 ],
 "metadata": {
  "kernelspec": {
   "display_name": "Python 3 (ipykernel)",
   "language": "python",
   "name": "python3"
  },
  "language_info": {
   "codemirror_mode": {
    "name": "ipython",
    "version": 3
   },
   "file_extension": ".py",
   "mimetype": "text/x-python",
   "name": "python",
   "nbconvert_exporter": "python",
   "pygments_lexer": "ipython3",
   "version": "3.7.11"
  }
 },
 "nbformat": 4,
 "nbformat_minor": 5
}

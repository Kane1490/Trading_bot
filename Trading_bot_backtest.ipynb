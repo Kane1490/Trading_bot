{
 "cells": [
  {
   "cell_type": "code",
   "execution_count": 695,
   "id": "b5a88683-0fbd-4da2-a383-2b756ac7ca85",
   "metadata": {},
   "outputs": [],
   "source": [
    "import ta\n",
    "import pandas as pd\n",
    "import numpy as np\n",
    "import yfinance as yf\n",
    "import matplotlib.pyplot as plt"
   ]
  },
  {
   "cell_type": "code",
   "execution_count": 696,
   "id": "4f50faa5-90a5-49a1-a893-c3e24763469b",
   "metadata": {},
   "outputs": [
    {
     "name": "stdout",
     "output_type": "stream",
     "text": [
      "[*********************100%***********************]  1 of 1 completed\n"
     ]
    }
   ],
   "source": [
    "df = yf.download('ETH-USD', start= '2021-01-01', interval = \"1h\")"
   ]
  },
  {
   "cell_type": "code",
   "execution_count": 697,
   "id": "5a61c6bb-8aca-459c-8336-46545926cc89",
   "metadata": {},
   "outputs": [],
   "source": [
    "# df['K'] = ta.momentum.stoch(df.High, df.Close, window = 14, smooth_window=3)\n",
    "# df['D'] = df['K'].rolling(3).mean()\n",
    "df['EMA_fast'] = ta.trend.ema_indicator(df.Close, window=13)\n",
    "df['EMA_slow'] = ta.trend.ema_indicator(df.Close, window=62)\n",
    "df['rsi'] = ta.momentum.rsi(df.Close, window=12)\n",
    "df['macd'] = ta.trend.macd_diff(df.Close)"
   ]
  },
  {
   "cell_type": "code",
   "execution_count": 698,
   "id": "9c30aa7c-ae51-4322-8040-2e24e264f53a",
   "metadata": {},
   "outputs": [],
   "source": [
    "df.dropna(inplace=True)"
   ]
  },
  {
   "cell_type": "code",
   "execution_count": 699,
   "id": "43635c9c-7dc7-4a4a-9df6-f42d81d5bfb3",
   "metadata": {},
   "outputs": [],
   "source": [
    "# dfx = pd.DataFrame()\n",
    "# for i in range(1,3):\n",
    "#     mask = (df['EMA_fast'].shift(i) > df['EMA_slow'].shift(i))\n",
    "#     dfx = dfx.append(mask, ignore_index=True)"
   ]
  },
  {
   "cell_type": "code",
   "execution_count": 700,
   "id": "c8133108-1242-43c9-8cb2-78f592a3b8b0",
   "metadata": {},
   "outputs": [],
   "source": [
    "# dfx.sum(axis=0)"
   ]
  },
  {
   "cell_type": "code",
   "execution_count": 701,
   "id": "56773368-79eb-4ad5-a9fe-bde28547194e",
   "metadata": {},
   "outputs": [],
   "source": [
    "# def gettriggers(df, lags, buy=True):\n",
    "#     dfx = pd.DataFrame()\n",
    "#     for i in range(1, lags+1):\n",
    "#         if buy:\n",
    "#             mask = (df['EMA_fast'].shift(i) > df['EMA_slow'].shift(i))\n",
    "#         else:\n",
    "#             mask = (df['EMA_fast'].shift(i) <= df['EMA_slow'].shift(i))\n",
    "#         dfx = dfx.append(mask,ignore_index=True)\n",
    "#     return dfx.sum(axis=0)"
   ]
  },
  {
   "cell_type": "code",
   "execution_count": 702,
   "id": "3871b6db-2479-4d91-9316-25d485d9605d",
   "metadata": {},
   "outputs": [],
   "source": [
    "# df['buytrigger'] = np.where(gettriggers(df, 2),1,0)"
   ]
  },
  {
   "cell_type": "code",
   "execution_count": 703,
   "id": "b25358ee-bbda-4686-8ab8-cbfa17934f14",
   "metadata": {},
   "outputs": [],
   "source": [
    "# df['selltrigger'] = np.where(gettriggers(df, 2, False),1,0)"
   ]
  },
  {
   "cell_type": "code",
   "execution_count": 704,
   "id": "fa6e19fb-b29a-4f79-b010-975022398efe",
   "metadata": {},
   "outputs": [],
   "source": [
    "# df['Buy'] = np.where((df.buytrigger) & (df.rsi > 50) & (df.macd > 0),1,0)"
   ]
  },
  {
   "cell_type": "code",
   "execution_count": 705,
   "id": "363ab652-004f-4dff-b644-5c38a49ee6f2",
   "metadata": {},
   "outputs": [],
   "source": [
    "# might be able to delete gettriggers/buytrigger/selltrigger and just do \n",
    "# df['Buy'] = np.where((df['EMA_fast'] > df['EMA_slow']) & (df.rsi > 50) & (df.macd > 0),1,0)"
   ]
  },
  {
   "cell_type": "code",
   "execution_count": 706,
   "id": "b448dcaa-45bb-4d5f-934f-21bdd70fa8e0",
   "metadata": {},
   "outputs": [],
   "source": [
    "# df['Sell'] = np.where((df.selltrigger) & (df.rsi < 50) & (df.macd < 0),1,0)"
   ]
  },
  {
   "cell_type": "code",
   "execution_count": 707,
   "id": "c14ff3e2-cbda-4e9b-a024-78afe58104d6",
   "metadata": {},
   "outputs": [],
   "source": [
    "df['Buy'] = np.where((df['EMA_fast'] > df['EMA_slow'])  & (df.rsi > 50) & (df.macd > 0),1,0)"
   ]
  },
  {
   "cell_type": "code",
   "execution_count": 708,
   "id": "e6cc5f10-fa57-41bf-8b64-04d8777d1b67",
   "metadata": {},
   "outputs": [],
   "source": [
    "df['Sell'] = np.where((df['EMA_fast'] < df['EMA_slow']),1,0) # | (df.macd < 0)"
   ]
  },
  {
   "cell_type": "code",
   "execution_count": 709,
   "id": "31564d5f-21ea-4856-a059-2c6df83b81a8",
   "metadata": {},
   "outputs": [],
   "source": [
    "Buying_dates, Selling_dates = [], []"
   ]
  },
  {
   "cell_type": "code",
   "execution_count": 710,
   "id": "5eeae150-fc30-458c-ad63-db91142e01e2",
   "metadata": {},
   "outputs": [],
   "source": [
    "for i in range(len(df)-1):\n",
    "    if df.Buy.iloc[i]:\n",
    "        Buying_dates.append(df.iloc[i+1].name)\n",
    "        for num,j in enumerate(df.Sell[i:]):\n",
    "            if j:\n",
    "                Selling_dates.append(df.iloc[i + num + 1].name)\n",
    "                break\n",
    "        "
   ]
  },
  {
   "cell_type": "code",
   "execution_count": 711,
   "id": "27def876-df63-45c3-8c89-bb95f02990be",
   "metadata": {},
   "outputs": [],
   "source": [
    "cut = len(Buying_dates) - len(Selling_dates)"
   ]
  },
  {
   "cell_type": "code",
   "execution_count": 713,
   "id": "e32dd12c-c774-4958-b64b-b6b53defb58b",
   "metadata": {},
   "outputs": [],
   "source": [
    "if cut:\n",
    "    Buying_dates = Buying_dates[:-cut]    "
   ]
  },
  {
   "cell_type": "code",
   "execution_count": 714,
   "id": "4bff212c-b792-467e-964a-677244d60566",
   "metadata": {},
   "outputs": [],
   "source": [
    "frame = pd.DataFrame({'Buying_dates':Buying_dates, 'Selling_dates':Selling_dates})"
   ]
  },
  {
   "cell_type": "code",
   "execution_count": 715,
   "id": "45f9e208-17c4-49d5-8e94-e3b9cbd29927",
   "metadata": {},
   "outputs": [],
   "source": [
    "actual_trades = frame[frame.Buying_dates > frame.Selling_dates.shift(1)]"
   ]
  },
  {
   "cell_type": "code",
   "execution_count": 716,
   "id": "40b25bc8-90f7-4223-8aa4-8370963cbf1e",
   "metadata": {},
   "outputs": [
    {
     "data": {
      "text/html": [
       "<div>\n",
       "<style scoped>\n",
       "    .dataframe tbody tr th:only-of-type {\n",
       "        vertical-align: middle;\n",
       "    }\n",
       "\n",
       "    .dataframe tbody tr th {\n",
       "        vertical-align: top;\n",
       "    }\n",
       "\n",
       "    .dataframe thead th {\n",
       "        text-align: right;\n",
       "    }\n",
       "</style>\n",
       "<table border=\"1\" class=\"dataframe\">\n",
       "  <thead>\n",
       "    <tr style=\"text-align: right;\">\n",
       "      <th></th>\n",
       "      <th>Buying_dates</th>\n",
       "      <th>Selling_dates</th>\n",
       "    </tr>\n",
       "  </thead>\n",
       "  <tbody>\n",
       "    <tr>\n",
       "      <th>101</th>\n",
       "      <td>2021-01-14 00:00:00+00:00</td>\n",
       "      <td>2021-01-21 09:00:00+00:00</td>\n",
       "    </tr>\n",
       "    <tr>\n",
       "      <th>182</th>\n",
       "      <td>2021-01-23 07:00:00+00:00</td>\n",
       "      <td>2021-01-23 15:00:00+00:00</td>\n",
       "    </tr>\n",
       "    <tr>\n",
       "      <th>187</th>\n",
       "      <td>2021-01-23 20:00:00+00:00</td>\n",
       "      <td>2021-01-26 09:00:00+00:00</td>\n",
       "    </tr>\n",
       "    <tr>\n",
       "      <th>214</th>\n",
       "      <td>2021-01-28 15:00:00+00:00</td>\n",
       "      <td>2021-01-31 15:00:00+00:00</td>\n",
       "    </tr>\n",
       "    <tr>\n",
       "      <th>248</th>\n",
       "      <td>2021-02-02 00:00:00+00:00</td>\n",
       "      <td>2021-02-07 06:00:00+00:00</td>\n",
       "    </tr>\n",
       "    <tr>\n",
       "      <th>...</th>\n",
       "      <td>...</td>\n",
       "      <td>...</td>\n",
       "    </tr>\n",
       "    <tr>\n",
       "      <th>2136</th>\n",
       "      <td>2021-11-19 20:00:00+00:00</td>\n",
       "      <td>2021-11-22 03:00:00+00:00</td>\n",
       "    </tr>\n",
       "    <tr>\n",
       "      <th>2156</th>\n",
       "      <td>2021-11-23 18:00:00+00:00</td>\n",
       "      <td>2021-11-24 19:00:00+00:00</td>\n",
       "    </tr>\n",
       "    <tr>\n",
       "      <th>2165</th>\n",
       "      <td>2021-11-25 00:00:00+00:00</td>\n",
       "      <td>2021-11-26 10:00:00+00:00</td>\n",
       "    </tr>\n",
       "    <tr>\n",
       "      <th>2190</th>\n",
       "      <td>2021-11-29 00:00:00+00:00</td>\n",
       "      <td>2021-12-02 17:00:00+00:00</td>\n",
       "    </tr>\n",
       "    <tr>\n",
       "      <th>2231</th>\n",
       "      <td>2021-12-03 09:00:00+00:00</td>\n",
       "      <td>2021-12-03 17:00:00+00:00</td>\n",
       "    </tr>\n",
       "  </tbody>\n",
       "</table>\n",
       "<p>67 rows × 2 columns</p>\n",
       "</div>"
      ],
      "text/plain": [
       "                  Buying_dates             Selling_dates\n",
       "101  2021-01-14 00:00:00+00:00 2021-01-21 09:00:00+00:00\n",
       "182  2021-01-23 07:00:00+00:00 2021-01-23 15:00:00+00:00\n",
       "187  2021-01-23 20:00:00+00:00 2021-01-26 09:00:00+00:00\n",
       "214  2021-01-28 15:00:00+00:00 2021-01-31 15:00:00+00:00\n",
       "248  2021-02-02 00:00:00+00:00 2021-02-07 06:00:00+00:00\n",
       "...                        ...                       ...\n",
       "2136 2021-11-19 20:00:00+00:00 2021-11-22 03:00:00+00:00\n",
       "2156 2021-11-23 18:00:00+00:00 2021-11-24 19:00:00+00:00\n",
       "2165 2021-11-25 00:00:00+00:00 2021-11-26 10:00:00+00:00\n",
       "2190 2021-11-29 00:00:00+00:00 2021-12-02 17:00:00+00:00\n",
       "2231 2021-12-03 09:00:00+00:00 2021-12-03 17:00:00+00:00\n",
       "\n",
       "[67 rows x 2 columns]"
      ]
     },
     "execution_count": 716,
     "metadata": {},
     "output_type": "execute_result"
    }
   ],
   "source": [
    "actual_trades"
   ]
  },
  {
   "cell_type": "code",
   "execution_count": 717,
   "id": "01e285ce-bf4a-4011-8e75-dc503f78cad2",
   "metadata": {},
   "outputs": [],
   "source": [
    "def profitcalc():\n",
    "    Buyprices = df.loc[actual_trades.Buying_dates].Open\n",
    "    Sellprices = df.loc[actual_trades.Selling_dates].Open\n",
    "    return (Sellprices.values - Buyprices.values)/Buyprices.values"
   ]
  },
  {
   "cell_type": "code",
   "execution_count": 718,
   "id": "6ede6be7-025b-4e54-9d91-016d95165d0d",
   "metadata": {},
   "outputs": [],
   "source": [
    "profits = profitcalc()"
   ]
  },
  {
   "cell_type": "code",
   "execution_count": 719,
   "id": "9dd486bf-46ef-4972-b352-1656f3af6712",
   "metadata": {},
   "outputs": [
    {
     "data": {
      "text/plain": [
       "array([ 1.24449635e-01, -3.09270758e-02,  5.67186677e-02, -8.43987631e-03,\n",
       "        1.81818927e-01,  1.38660142e-02,  8.19771817e-03, -2.59445379e-02,\n",
       "       -2.05614838e-02,  5.83844905e-02, -2.34553261e-02,  5.29174642e-03,\n",
       "        1.40576689e-01, -2.01672940e-02, -2.81706578e-02, -2.37629530e-02,\n",
       "       -1.48278096e-02,  2.37716190e-01,  1.53638761e-01, -5.01367618e-02,\n",
       "       -5.27926719e-02,  6.30878246e-01, -5.90304934e-02,  5.30052093e-02,\n",
       "        2.74525879e-02, -5.52411106e-02, -4.68560663e-02, -6.79080911e-03,\n",
       "       -2.47593176e-02, -4.03550681e-02,  5.26858051e-02,  2.80606259e-02,\n",
       "       -3.09498215e-02, -2.87620161e-02, -3.78071825e-02,  3.17367662e-01,\n",
       "        1.08272066e-01, -1.69989894e-04, -2.13700218e-02, -3.76071945e-02,\n",
       "        5.86366019e-03, -3.91147140e-02, -1.71128043e-02, -2.32021451e-02,\n",
       "        1.39915144e-01, -4.30542238e-02,  4.30997828e-02, -7.20630790e-03,\n",
       "       -7.89431952e-02, -3.99334346e-02,  1.68642536e-01, -2.76258122e-02,\n",
       "        3.61339719e-02, -3.31499906e-02,  3.46551382e-02, -1.38769103e-02,\n",
       "       -2.61694325e-02,  3.95283799e-03,  3.18667592e-02, -7.45251073e-04,\n",
       "       -3.15832348e-02, -2.20090336e-02, -2.36543521e-02, -2.10278017e-02,\n",
       "       -4.58431567e-02,  4.54101505e-02, -4.78809752e-02])"
      ]
     },
     "execution_count": 719,
     "metadata": {},
     "output_type": "execute_result"
    }
   ],
   "source": [
    "profits"
   ]
  },
  {
   "cell_type": "code",
   "execution_count": 720,
   "id": "71cdf1fa-c2da-4af4-81e2-4fe470c8044b",
   "metadata": {},
   "outputs": [],
   "source": [
    "real_profits = profits - .00075"
   ]
  },
  {
   "cell_type": "code",
   "execution_count": 721,
   "id": "744963cd-4e7a-40a8-9008-08cbb65c7d5e",
   "metadata": {},
   "outputs": [
    {
     "data": {
      "text/plain": [
       "2.2043323983059944"
      ]
     },
     "execution_count": 721,
     "metadata": {},
     "output_type": "execute_result"
    }
   ],
   "source": [
    "profits.mean()*100"
   ]
  },
  {
   "cell_type": "code",
   "execution_count": 722,
   "id": "c26d2608-d7d9-4e61-8b4f-3495ed4172bf",
   "metadata": {},
   "outputs": [
    {
     "data": {
      "text/plain": [
       "220.58212466219118"
      ]
     },
     "execution_count": 722,
     "metadata": {},
     "output_type": "execute_result"
    }
   ],
   "source": [
    "(profits+1).prod()*100 - 100"
   ]
  },
  {
   "cell_type": "code",
   "execution_count": 723,
   "id": "2eb23cb8-faf3-4f25-8fb7-91086bb4cb43",
   "metadata": {},
   "outputs": [],
   "source": [
    "average_profit = sum(profits)/len(profits)*100\n",
    "largest_gain = max(profits)*100\n",
    "biggest_loss = min(profits)*100"
   ]
  },
  {
   "cell_type": "code",
   "execution_count": 724,
   "id": "0292c7a3-cdf5-4672-b88b-edc6892b6ecc",
   "metadata": {},
   "outputs": [
    {
     "name": "stdout",
     "output_type": "stream",
     "text": [
      "Average Profit = 2.2043323983059944 %\n",
      "Largest Gain = 63.087824623567656 %\n",
      "Biggest Loss = -7.8943195235673835 %\n"
     ]
    }
   ],
   "source": [
    "print(f'Average Profit =',average_profit,'%')\n",
    "print(f'Largest Gain =',largest_gain,'%')\n",
    "print(f'Biggest Loss =',biggest_loss,'%')"
   ]
  },
  {
   "cell_type": "code",
   "execution_count": 725,
   "id": "aeca402d-c572-47a9-b244-7048105a1041",
   "metadata": {},
   "outputs": [
    {
     "data": {
      "text/plain": [
       "2.107448207427939"
      ]
     },
     "execution_count": 725,
     "metadata": {},
     "output_type": "execute_result"
    }
   ],
   "source": [
    "((profits.mean() + 1)**(52))-1"
   ]
  },
  {
   "cell_type": "code",
   "execution_count": 726,
   "id": "ca1a8350-fc15-461a-9007-e3fcbb7634ae",
   "metadata": {},
   "outputs": [
    {
     "data": {
      "text/plain": [
       "[<matplotlib.lines.Line2D at 0x142d79e52c8>]"
      ]
     },
     "execution_count": 726,
     "metadata": {},
     "output_type": "execute_result"
    },
    {
     "data": {
      "image/png": "[encoded data removed]",
      "text/plain": [
       "<Figure size 432x288 with 1 Axes>"
      ]
     },
     "metadata": {
      "needs_background": "light"
     },
     "output_type": "display_data"
    }
   ],
   "source": [
    "plt.plot(profits, color=\"red\")"
   ]
  },
  {
   "cell_type": "code",
   "execution_count": 727,
   "id": "ac14d2a1-d11f-4b79-a800-4569ccedc330",
   "metadata": {},
   "outputs": [],
   "source": [
    "cumulative_profits =np.cumsum(profits)"
   ]
  },
  {
   "cell_type": "code",
   "execution_count": 728,
   "id": "8928385a-ff27-4ed5-a997-ad6c07408a7f",
   "metadata": {},
   "outputs": [
    {
     "data": {
      "text/plain": [
       "[<matplotlib.lines.Line2D at 0x142d7a42748>]"
      ]
     },
     "execution_count": 728,
     "metadata": {},
     "output_type": "execute_result"
    },
    {
     "data": {
      "image/png": "[encoded data removed]",
      "text/plain": [
       "<Figure size 432x288 with 1 Axes>"
      ]
     },
     "metadata": {
      "needs_background": "light"
     },
     "output_type": "display_data"
    }
   ],
   "source": [
    "plt.plot(cumulative_profits, color=\"green\")"
   ]
  },
  {
   "cell_type": "code",
   "execution_count": null,
   "id": "e5d33d3a-aff2-47de-9b48-b7ab6c8b4850",
   "metadata": {},
   "outputs": [],
   "source": []
  },
  {
   "cell_type": "code",
   "execution_count": 729,
   "id": "1ab9c057-325e-40f8-b549-53be688c68fb",
   "metadata": {},
   "outputs": [
    {
     "data": {
      "image/png": "[encoded data removed]",
      "text/plain": [
       "<Figure size 1080x576 with 1 Axes>"
      ]
     },
     "metadata": {
      "needs_background": "light"
     },
     "output_type": "display_data"
    }
   ],
   "source": [
    "# line 1 points\n",
    "x1 = profits\n",
    "plt.figure(figsize=(15,8))\n",
    "# plotting the line 1 points\n",
    "plt.plot(x1, label = \"Individual profits\")\n",
    " \n",
    "# line 2 points\n",
    "x2 = cumulative_profits\n",
    "\n",
    "# plotting the line 2 points\n",
    "plt.plot(x2, label = \"Culmative totals profit\")\n",
    " \n",
    "# naming the x axis\n",
    "plt.xlabel('Number of trades')\n",
    "# naming the y axis\n",
    "plt.ylabel('percent')\n",
    "# giving a title to my graph\n",
    "plt.title('Profit')\n",
    " \n",
    "# show a legend on the plot\n",
    "plt.legend()\n",
    " \n",
    "# function to show the plot\n",
    "plt.show()\n",
    "\n"
   ]
  },
  {
   "cell_type": "code",
   "execution_count": null,
   "id": "da2f5013-8dcb-4763-bd9c-3cbb45a657b9",
   "metadata": {},
   "outputs": [],
   "source": []
  },
  {
   "cell_type": "code",
   "execution_count": null,
   "id": "56a9202d-298d-4a09-bb60-86254a5e9984",
   "metadata": {},
   "outputs": [],
   "source": []
  }
 ],
 "metadata": {
  "kernelspec": {
   "display_name": "Python 3",
   "language": "python",
   "name": "python3"
  },
  "language_info": {
   "codemirror_mode": {
    "name": "ipython",
    "version": 3
   },
   "file_extension": ".py",
   "mimetype": "text/x-python",
   "name": "python",
   "nbconvert_exporter": "python",
   "pygments_lexer": "ipython3",
   "version": "3.7.10"
  }
 },
 "nbformat": 4,
 "nbformat_minor": 5
}

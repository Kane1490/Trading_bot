{
 "cells": [
  {
   "cell_type": "code",
   "execution_count": null,
   "id": "89e7cf3d-7a4d-49d3-93db-77fc7d2b6407",
   "metadata": {},
   "outputs": [],
   "source": []
  },
  {
   "cell_type": "code",
   "execution_count": 72,
   "id": "676e5a1b-f204-4d1b-b219-f2e6f78f0b37",
   "metadata": {},
   "outputs": [],
   "source": [
    "import asyncio\n",
    "from binance import AsyncClient, BinanceSocketManager\n",
    "import pandas as pd\n",
    "import datetime as dt\n",
    "from binance.client import Client"
   ]
  },
  {
   "cell_type": "code",
   "execution_count": 73,
   "id": "e7d65aeb-3c89-49dc-9023-346b89d050b2",
   "metadata": {},
   "outputs": [],
   "source": [
    "from dotenv import load_dotenv\n",
    "import os"
   ]
  },
  {
   "cell_type": "code",
   "execution_count": 74,
   "id": "6ee4188c-99c9-43df-98b2-66c0807bf3e8",
   "metadata": {},
   "outputs": [],
   "source": [
    "%run ./Binance_keys.ipynb"
   ]
  },
  {
   "cell_type": "code",
   "execution_count": 75,
   "id": "0c1862a8-c734-49b1-bc3e-bd2421c4bf66",
   "metadata": {},
   "outputs": [],
   "source": [
    "from sqlalchemy import create_engine\n",
    "engine = create_engine('sqlite:///CryptoDB.db')"
   ]
  },
  {
   "cell_type": "code",
   "execution_count": 76,
   "id": "4b18cc8d-6b4a-4669-a935-7192772b421b",
   "metadata": {},
   "outputs": [],
   "source": [
    "client = Client(api_key,api_secret)"
   ]
  },
  {
   "cell_type": "code",
   "execution_count": 77,
   "id": "80c3b266-30e4-4c85-aa2c-4b22e7588259",
   "metadata": {},
   "outputs": [
    {
     "data": {
      "text/html": [
       "<div>\n",
       "<style scoped>\n",
       "    .dataframe tbody tr th:only-of-type {\n",
       "        vertical-align: middle;\n",
       "    }\n",
       "\n",
       "    .dataframe tbody tr th {\n",
       "        vertical-align: top;\n",
       "    }\n",
       "\n",
       "    .dataframe thead th {\n",
       "        text-align: right;\n",
       "    }\n",
       "</style>\n",
       "<table border=\"1\" class=\"dataframe\">\n",
       "  <thead>\n",
       "    <tr style=\"text-align: right;\">\n",
       "      <th></th>\n",
       "      <th>name</th>\n",
       "    </tr>\n",
       "  </thead>\n",
       "  <tbody>\n",
       "    <tr>\n",
       "      <th>0</th>\n",
       "      <td>ROSEBUSD</td>\n",
       "    </tr>\n",
       "    <tr>\n",
       "      <th>1</th>\n",
       "      <td>PONDBUSD</td>\n",
       "    </tr>\n",
       "    <tr>\n",
       "      <th>2</th>\n",
       "      <td>BNBBUSD</td>\n",
       "    </tr>\n",
       "    <tr>\n",
       "      <th>3</th>\n",
       "      <td>MBOXBUSD</td>\n",
       "    </tr>\n",
       "    <tr>\n",
       "      <th>4</th>\n",
       "      <td>ALPHABUSD</td>\n",
       "    </tr>\n",
       "    <tr>\n",
       "      <th>...</th>\n",
       "      <td>...</td>\n",
       "    </tr>\n",
       "    <tr>\n",
       "      <th>252</th>\n",
       "      <td>BNTBUSD</td>\n",
       "    </tr>\n",
       "    <tr>\n",
       "      <th>253</th>\n",
       "      <td>JSTBUSD</td>\n",
       "    </tr>\n",
       "    <tr>\n",
       "      <th>254</th>\n",
       "      <td>BTGBUSD</td>\n",
       "    </tr>\n",
       "    <tr>\n",
       "      <th>255</th>\n",
       "      <td>USDPBUSD</td>\n",
       "    </tr>\n",
       "    <tr>\n",
       "      <th>256</th>\n",
       "      <td>ANYBUSD</td>\n",
       "    </tr>\n",
       "  </tbody>\n",
       "</table>\n",
       "<p>257 rows × 1 columns</p>\n",
       "</div>"
      ],
      "text/plain": [
       "          name\n",
       "0     ROSEBUSD\n",
       "1     PONDBUSD\n",
       "2      BNBBUSD\n",
       "3     MBOXBUSD\n",
       "4    ALPHABUSD\n",
       "..         ...\n",
       "252    BNTBUSD\n",
       "253    JSTBUSD\n",
       "254    BTGBUSD\n",
       "255   USDPBUSD\n",
       "256    ANYBUSD\n",
       "\n",
       "[257 rows x 1 columns]"
      ]
     },
     "execution_count": 77,
     "metadata": {},
     "output_type": "execute_result"
    }
   ],
   "source": [
    "pd.read_sql('SELECT name FROM sqlite_master WHERE type =\"table\"',engine)"
   ]
  },
  {
   "cell_type": "code",
   "execution_count": 78,
   "id": "b2b7287f-dc61-4690-bae7-5d481abc4a29",
   "metadata": {},
   "outputs": [],
   "source": [
    "symbols = pd.read_sql('SELECT name FROM sqlite_master WHERE type =\"table\"',engine).name.to_list()"
   ]
  },
  {
   "cell_type": "code",
   "execution_count": 79,
   "id": "2f3041c8-1bf2-4b16-a109-df4d432ae470",
   "metadata": {},
   "outputs": [],
   "source": [
    "#dt.datetime.now() #need set to binance time"
   ]
  },
  {
   "cell_type": "code",
   "execution_count": 80,
   "id": "3dca187b-27b4-4e45-b9e4-66030b83fb98",
   "metadata": {},
   "outputs": [],
   "source": [
    "#pd.read_sql('BTCBUSD',engine)"
   ]
  },
  {
   "cell_type": "code",
   "execution_count": 81,
   "id": "a65e80f4-3e59-45e3-b3f9-8868c421a3f5",
   "metadata": {},
   "outputs": [],
   "source": [
    "now = dt.datetime.now()"
   ]
  },
  {
   "cell_type": "code",
   "execution_count": 82,
   "id": "67f70fbd-a085-427e-8441-9c89a03c781a",
   "metadata": {},
   "outputs": [
    {
     "data": {
      "text/plain": [
       "datetime.datetime(2021, 12, 6, 18, 45, 2, 271132)"
      ]
     },
     "execution_count": 82,
     "metadata": {},
     "output_type": "execute_result"
    }
   ],
   "source": [
    "now"
   ]
  },
  {
   "cell_type": "code",
   "execution_count": 83,
   "id": "6824c3e3-f1c6-4e5a-a833-7b843cf3d9f1",
   "metadata": {},
   "outputs": [],
   "source": [
    "def qry(symbol, lookback:int):\n",
    "    now = dt.datetime.now() - dt.timedelta(hours=0) and dt.timedelta(hours=1) #binance time\n",
    "    before = now - dt.timedelta(minutes=lookback)\n",
    "    qry_str = f\"\"\"SELECT * FROM '{symbol}' WHERE TIME >= '{before}'\"\"\"\n",
    "    return pd.read_sql(qry_str,engine)"
   ]
  },
  {
   "cell_type": "code",
   "execution_count": null,
   "id": "31b443a2-4053-4dd8-b81f-bfe44900c60b",
   "metadata": {},
   "outputs": [],
   "source": []
  },
  {
   "cell_type": "code",
   "execution_count": 84,
   "id": "40d7b9c5-ac37-49da-afc3-2546c8da2214",
   "metadata": {},
   "outputs": [
    {
     "data": {
      "text/html": [
       "<div>\n",
       "<style scoped>\n",
       "    .dataframe tbody tr th:only-of-type {\n",
       "        vertical-align: middle;\n",
       "    }\n",
       "\n",
       "    .dataframe tbody tr th {\n",
       "        vertical-align: top;\n",
       "    }\n",
       "\n",
       "    .dataframe thead th {\n",
       "        text-align: right;\n",
       "    }\n",
       "</style>\n",
       "<table border=\"1\" class=\"dataframe\">\n",
       "  <thead>\n",
       "    <tr style=\"text-align: right;\">\n",
       "      <th></th>\n",
       "      <th>symbol</th>\n",
       "      <th>Time</th>\n",
       "      <th>Price</th>\n",
       "    </tr>\n",
       "  </thead>\n",
       "  <tbody>\n",
       "    <tr>\n",
       "      <th>0</th>\n",
       "      <td>BTCBUSD</td>\n",
       "      <td>2021-12-03 09:42:21.551000</td>\n",
       "      <td>56615.81</td>\n",
       "    </tr>\n",
       "    <tr>\n",
       "      <th>1</th>\n",
       "      <td>BTCBUSD</td>\n",
       "      <td>2021-12-03 09:42:23.670000</td>\n",
       "      <td>56615.82</td>\n",
       "    </tr>\n",
       "    <tr>\n",
       "      <th>2</th>\n",
       "      <td>BTCBUSD</td>\n",
       "      <td>2021-12-03 09:42:24.242000</td>\n",
       "      <td>56615.82</td>\n",
       "    </tr>\n",
       "    <tr>\n",
       "      <th>3</th>\n",
       "      <td>BTCBUSD</td>\n",
       "      <td>2021-12-03 09:42:24.242000</td>\n",
       "      <td>56615.82</td>\n",
       "    </tr>\n",
       "    <tr>\n",
       "      <th>4</th>\n",
       "      <td>BTCBUSD</td>\n",
       "      <td>2021-12-03 09:42:24.242000</td>\n",
       "      <td>56615.82</td>\n",
       "    </tr>\n",
       "    <tr>\n",
       "      <th>...</th>\n",
       "      <td>...</td>\n",
       "      <td>...</td>\n",
       "      <td>...</td>\n",
       "    </tr>\n",
       "    <tr>\n",
       "      <th>168680</th>\n",
       "      <td>BTCBUSD</td>\n",
       "      <td>2021-12-06 07:45:01.923000</td>\n",
       "      <td>48079.38</td>\n",
       "    </tr>\n",
       "    <tr>\n",
       "      <th>168681</th>\n",
       "      <td>BTCBUSD</td>\n",
       "      <td>2021-12-06 07:45:01.923000</td>\n",
       "      <td>48079.39</td>\n",
       "    </tr>\n",
       "    <tr>\n",
       "      <th>168682</th>\n",
       "      <td>BTCBUSD</td>\n",
       "      <td>2021-12-06 07:45:01.923000</td>\n",
       "      <td>48079.41</td>\n",
       "    </tr>\n",
       "    <tr>\n",
       "      <th>168683</th>\n",
       "      <td>BTCBUSD</td>\n",
       "      <td>2021-12-06 07:45:01.934000</td>\n",
       "      <td>48079.41</td>\n",
       "    </tr>\n",
       "    <tr>\n",
       "      <th>168684</th>\n",
       "      <td>BTCBUSD</td>\n",
       "      <td>2021-12-06 07:45:01.934000</td>\n",
       "      <td>48080.00</td>\n",
       "    </tr>\n",
       "  </tbody>\n",
       "</table>\n",
       "<p>168685 rows × 3 columns</p>\n",
       "</div>"
      ],
      "text/plain": [
       "         symbol                        Time     Price\n",
       "0       BTCBUSD  2021-12-03 09:42:21.551000  56615.81\n",
       "1       BTCBUSD  2021-12-03 09:42:23.670000  56615.82\n",
       "2       BTCBUSD  2021-12-03 09:42:24.242000  56615.82\n",
       "3       BTCBUSD  2021-12-03 09:42:24.242000  56615.82\n",
       "4       BTCBUSD  2021-12-03 09:42:24.242000  56615.82\n",
       "...         ...                         ...       ...\n",
       "168680  BTCBUSD  2021-12-06 07:45:01.923000  48079.38\n",
       "168681  BTCBUSD  2021-12-06 07:45:01.923000  48079.39\n",
       "168682  BTCBUSD  2021-12-06 07:45:01.923000  48079.41\n",
       "168683  BTCBUSD  2021-12-06 07:45:01.934000  48079.41\n",
       "168684  BTCBUSD  2021-12-06 07:45:01.934000  48080.00\n",
       "\n",
       "[168685 rows x 3 columns]"
      ]
     },
     "execution_count": 84,
     "metadata": {},
     "output_type": "execute_result"
    }
   ],
   "source": [
    "qry('BTCBUSD',5)"
   ]
  },
  {
   "cell_type": "code",
   "execution_count": 85,
   "id": "75a0b878-2d20-4c76-bf84-00281cc508d6",
   "metadata": {},
   "outputs": [],
   "source": [
    "#loop\n",
    "rets = []\n",
    "for symbol in symbols:\n",
    "    prices = qry(symbol,3).Price\n",
    "    cumret = (prices.pct_change() +1).prod() - 1\n",
    "    rets.append(cumret)"
   ]
  },
  {
   "cell_type": "code",
   "execution_count": 86,
   "id": "ed5f432f-087e-4df2-b3ce-8b59cab2f7e5",
   "metadata": {},
   "outputs": [],
   "source": [
    "top_coin = symbols[rets.index(max(rets))]"
   ]
  },
  {
   "cell_type": "code",
   "execution_count": 87,
   "id": "079397a4-4134-4b6a-92b8-8d28fba018a2",
   "metadata": {},
   "outputs": [
    {
     "data": {
      "text/plain": [
       "'VIDTBUSD'"
      ]
     },
     "execution_count": 87,
     "metadata": {},
     "output_type": "execute_result"
    }
   ],
   "source": [
    "top_coin"
   ]
  },
  {
   "cell_type": "code",
   "execution_count": 88,
   "id": "72e7dfca-9c65-4bf2-9134-a159bbcd0167",
   "metadata": {},
   "outputs": [],
   "source": [
    "investment_amt = 9"
   ]
  },
  {
   "cell_type": "code",
   "execution_count": 89,
   "id": "4d71ee08-8e14-42fc-b22a-3c51354cab1a",
   "metadata": {},
   "outputs": [],
   "source": [
    "info = client.get_symbol_info(symbol=top_coin)"
   ]
  },
  {
   "cell_type": "code",
   "execution_count": 90,
   "id": "6ca34b00-41e0-4191-a549-f1dc15e03de7",
   "metadata": {},
   "outputs": [],
   "source": [
    "Lotsize = float([i for i in info['filters'] if i['filterType'] == 'LOT_SIZE'][0]['minQty'])"
   ]
  },
  {
   "cell_type": "code",
   "execution_count": 91,
   "id": "82b4b796-3cd9-4c58-8153-7cf8520d73f2",
   "metadata": {},
   "outputs": [],
   "source": [
    "price = float(client.get_symbol_ticker(symbol=top_coin)['price'])"
   ]
  },
  {
   "cell_type": "code",
   "execution_count": 98,
   "id": "212e176d-a248-4a46-b88b-7b9ca88c3b8f",
   "metadata": {},
   "outputs": [
    {
     "data": {
      "text/plain": [
       "1.1541"
      ]
     },
     "execution_count": 98,
     "metadata": {},
     "output_type": "execute_result"
    }
   ],
   "source": [
    "price"
   ]
  },
  {
   "cell_type": "code",
   "execution_count": 99,
   "id": "ca94fe45-66a5-4ff1-b5c9-43da448f5851",
   "metadata": {},
   "outputs": [
    {
     "data": {
      "text/plain": [
       "1.0"
      ]
     },
     "execution_count": 99,
     "metadata": {},
     "output_type": "execute_result"
    }
   ],
   "source": [
    "Lotsize"
   ]
  },
  {
   "cell_type": "code",
   "execution_count": 100,
   "id": "3def1bf7-6386-4fca-9ef3-a1fd5cf32679",
   "metadata": {},
   "outputs": [],
   "source": [
    "buy_quantity = round(investment_amt/price, len(str(Lotsize).split('.')[1]))"
   ]
  },
  {
   "cell_type": "code",
   "execution_count": 101,
   "id": "e2da5cd7-efa4-4a9b-a9d2-2198807274aa",
   "metadata": {},
   "outputs": [],
   "source": [
    "free_usd = [i for i in client.get_account()['balances'] if i['asset'] == 'BUSD'][0]['free']"
   ]
  },
  {
   "cell_type": "code",
   "execution_count": 102,
   "id": "73d4e8cc-6a1d-4181-a4e7-524382eb04d7",
   "metadata": {},
   "outputs": [
    {
     "data": {
      "text/plain": [
       "'9.35839200'"
      ]
     },
     "execution_count": 102,
     "metadata": {},
     "output_type": "execute_result"
    }
   ],
   "source": [
    "free_usd"
   ]
  },
  {
   "cell_type": "code",
   "execution_count": 103,
   "id": "6d610a3e-45bc-4b76-ba83-7ee95b2478c4",
   "metadata": {},
   "outputs": [
    {
     "ename": "BinanceAPIException",
     "evalue": "APIError(code=-1013): Filter failure: LOT_SIZE",
     "output_type": "error",
     "traceback": [
      "\u001b[0;31m---------------------------------------------------------------------------\u001b[0m",
      "\u001b[0;31mBinanceAPIException\u001b[0m                       Traceback (most recent call last)",
      "\u001b[0;32m/var/folders/6h/r_vp4zcj0sg_l_2kl6s3_csc0000gn/T/ipykernel_67075/2067857245.py\u001b[0m in \u001b[0;36m<module>\u001b[0;34m\u001b[0m\n\u001b[1;32m      1\u001b[0m \u001b[0;32mif\u001b[0m \u001b[0mfloat\u001b[0m\u001b[0;34m(\u001b[0m\u001b[0mfree_usd\u001b[0m\u001b[0;34m)\u001b[0m \u001b[0;34m>\u001b[0m \u001b[0minvestment_amt\u001b[0m\u001b[0;34m:\u001b[0m\u001b[0;34m\u001b[0m\u001b[0;34m\u001b[0m\u001b[0m\n\u001b[1;32m      2\u001b[0m     order = client.create_order(symbol=top_coin, side='BUY',\n\u001b[0;32m----> 3\u001b[0;31m                                 type='MARKET',quantity=buy_quantity)\n\u001b[0m\u001b[1;32m      4\u001b[0m     \u001b[0mprint\u001b[0m\u001b[0;34m(\u001b[0m\u001b[0morder\u001b[0m\u001b[0;34m)\u001b[0m\u001b[0;34m\u001b[0m\u001b[0;34m\u001b[0m\u001b[0m\n\u001b[1;32m      5\u001b[0m \u001b[0;34m\u001b[0m\u001b[0m\n",
      "\u001b[0;32m~/opt/anaconda3/envs/tradingbot/lib/python3.7/site-packages/binance/client.py\u001b[0m in \u001b[0;36mcreate_order\u001b[0;34m(self, **params)\u001b[0m\n\u001b[1;32m   1383\u001b[0m \u001b[0;34m\u001b[0m\u001b[0m\n\u001b[1;32m   1384\u001b[0m         \"\"\"\n\u001b[0;32m-> 1385\u001b[0;31m         \u001b[0;32mreturn\u001b[0m \u001b[0mself\u001b[0m\u001b[0;34m.\u001b[0m\u001b[0m_post\u001b[0m\u001b[0;34m(\u001b[0m\u001b[0;34m'order'\u001b[0m\u001b[0;34m,\u001b[0m \u001b[0;32mTrue\u001b[0m\u001b[0;34m,\u001b[0m \u001b[0mdata\u001b[0m\u001b[0;34m=\u001b[0m\u001b[0mparams\u001b[0m\u001b[0;34m)\u001b[0m\u001b[0;34m\u001b[0m\u001b[0;34m\u001b[0m\u001b[0m\n\u001b[0m\u001b[1;32m   1386\u001b[0m \u001b[0;34m\u001b[0m\u001b[0m\n\u001b[1;32m   1387\u001b[0m     \u001b[0;32mdef\u001b[0m \u001b[0morder_limit\u001b[0m\u001b[0;34m(\u001b[0m\u001b[0mself\u001b[0m\u001b[0;34m,\u001b[0m \u001b[0mtimeInForce\u001b[0m\u001b[0;34m=\u001b[0m\u001b[0mBaseClient\u001b[0m\u001b[0;34m.\u001b[0m\u001b[0mTIME_IN_FORCE_GTC\u001b[0m\u001b[0;34m,\u001b[0m \u001b[0;34m**\u001b[0m\u001b[0mparams\u001b[0m\u001b[0;34m)\u001b[0m\u001b[0;34m:\u001b[0m\u001b[0;34m\u001b[0m\u001b[0;34m\u001b[0m\u001b[0m\n",
      "\u001b[0;32m~/opt/anaconda3/envs/tradingbot/lib/python3.7/site-packages/binance/client.py\u001b[0m in \u001b[0;36m_post\u001b[0;34m(self, path, signed, version, **kwargs)\u001b[0m\n\u001b[1;32m    372\u001b[0m \u001b[0;34m\u001b[0m\u001b[0m\n\u001b[1;32m    373\u001b[0m     \u001b[0;32mdef\u001b[0m \u001b[0m_post\u001b[0m\u001b[0;34m(\u001b[0m\u001b[0mself\u001b[0m\u001b[0;34m,\u001b[0m \u001b[0mpath\u001b[0m\u001b[0;34m,\u001b[0m \u001b[0msigned\u001b[0m\u001b[0;34m=\u001b[0m\u001b[0;32mFalse\u001b[0m\u001b[0;34m,\u001b[0m \u001b[0mversion\u001b[0m\u001b[0;34m=\u001b[0m\u001b[0mBaseClient\u001b[0m\u001b[0;34m.\u001b[0m\u001b[0mPUBLIC_API_VERSION\u001b[0m\u001b[0;34m,\u001b[0m \u001b[0;34m**\u001b[0m\u001b[0mkwargs\u001b[0m\u001b[0;34m)\u001b[0m \u001b[0;34m->\u001b[0m \u001b[0mDict\u001b[0m\u001b[0;34m:\u001b[0m\u001b[0;34m\u001b[0m\u001b[0;34m\u001b[0m\u001b[0m\n\u001b[0;32m--> 374\u001b[0;31m         \u001b[0;32mreturn\u001b[0m \u001b[0mself\u001b[0m\u001b[0;34m.\u001b[0m\u001b[0m_request_api\u001b[0m\u001b[0;34m(\u001b[0m\u001b[0;34m'post'\u001b[0m\u001b[0;34m,\u001b[0m \u001b[0mpath\u001b[0m\u001b[0;34m,\u001b[0m \u001b[0msigned\u001b[0m\u001b[0;34m,\u001b[0m \u001b[0mversion\u001b[0m\u001b[0;34m,\u001b[0m \u001b[0;34m**\u001b[0m\u001b[0mkwargs\u001b[0m\u001b[0;34m)\u001b[0m\u001b[0;34m\u001b[0m\u001b[0;34m\u001b[0m\u001b[0m\n\u001b[0m\u001b[1;32m    375\u001b[0m \u001b[0;34m\u001b[0m\u001b[0m\n\u001b[1;32m    376\u001b[0m     \u001b[0;32mdef\u001b[0m \u001b[0m_put\u001b[0m\u001b[0;34m(\u001b[0m\u001b[0mself\u001b[0m\u001b[0;34m,\u001b[0m \u001b[0mpath\u001b[0m\u001b[0;34m,\u001b[0m \u001b[0msigned\u001b[0m\u001b[0;34m=\u001b[0m\u001b[0;32mFalse\u001b[0m\u001b[0;34m,\u001b[0m \u001b[0mversion\u001b[0m\u001b[0;34m=\u001b[0m\u001b[0mBaseClient\u001b[0m\u001b[0;34m.\u001b[0m\u001b[0mPUBLIC_API_VERSION\u001b[0m\u001b[0;34m,\u001b[0m \u001b[0;34m**\u001b[0m\u001b[0mkwargs\u001b[0m\u001b[0;34m)\u001b[0m \u001b[0;34m->\u001b[0m \u001b[0mDict\u001b[0m\u001b[0;34m:\u001b[0m\u001b[0;34m\u001b[0m\u001b[0;34m\u001b[0m\u001b[0m\n",
      "\u001b[0;32m~/opt/anaconda3/envs/tradingbot/lib/python3.7/site-packages/binance/client.py\u001b[0m in \u001b[0;36m_request_api\u001b[0;34m(self, method, path, signed, version, **kwargs)\u001b[0m\n\u001b[1;32m    332\u001b[0m     ):\n\u001b[1;32m    333\u001b[0m         \u001b[0muri\u001b[0m \u001b[0;34m=\u001b[0m \u001b[0mself\u001b[0m\u001b[0;34m.\u001b[0m\u001b[0m_create_api_uri\u001b[0m\u001b[0;34m(\u001b[0m\u001b[0mpath\u001b[0m\u001b[0;34m,\u001b[0m \u001b[0msigned\u001b[0m\u001b[0;34m,\u001b[0m \u001b[0mversion\u001b[0m\u001b[0;34m)\u001b[0m\u001b[0;34m\u001b[0m\u001b[0;34m\u001b[0m\u001b[0m\n\u001b[0;32m--> 334\u001b[0;31m         \u001b[0;32mreturn\u001b[0m \u001b[0mself\u001b[0m\u001b[0;34m.\u001b[0m\u001b[0m_request\u001b[0m\u001b[0;34m(\u001b[0m\u001b[0mmethod\u001b[0m\u001b[0;34m,\u001b[0m \u001b[0muri\u001b[0m\u001b[0;34m,\u001b[0m \u001b[0msigned\u001b[0m\u001b[0;34m,\u001b[0m \u001b[0;34m**\u001b[0m\u001b[0mkwargs\u001b[0m\u001b[0;34m)\u001b[0m\u001b[0;34m\u001b[0m\u001b[0;34m\u001b[0m\u001b[0m\n\u001b[0m\u001b[1;32m    335\u001b[0m \u001b[0;34m\u001b[0m\u001b[0m\n\u001b[1;32m    336\u001b[0m     \u001b[0;32mdef\u001b[0m \u001b[0m_request_futures_api\u001b[0m\u001b[0;34m(\u001b[0m\u001b[0mself\u001b[0m\u001b[0;34m,\u001b[0m \u001b[0mmethod\u001b[0m\u001b[0;34m,\u001b[0m \u001b[0mpath\u001b[0m\u001b[0;34m,\u001b[0m \u001b[0msigned\u001b[0m\u001b[0;34m=\u001b[0m\u001b[0;32mFalse\u001b[0m\u001b[0;34m,\u001b[0m \u001b[0;34m**\u001b[0m\u001b[0mkwargs\u001b[0m\u001b[0;34m)\u001b[0m \u001b[0;34m->\u001b[0m \u001b[0mDict\u001b[0m\u001b[0;34m:\u001b[0m\u001b[0;34m\u001b[0m\u001b[0;34m\u001b[0m\u001b[0m\n",
      "\u001b[0;32m~/opt/anaconda3/envs/tradingbot/lib/python3.7/site-packages/binance/client.py\u001b[0m in \u001b[0;36m_request\u001b[0;34m(self, method, uri, signed, force_params, **kwargs)\u001b[0m\n\u001b[1;32m    313\u001b[0m \u001b[0;34m\u001b[0m\u001b[0m\n\u001b[1;32m    314\u001b[0m         \u001b[0mself\u001b[0m\u001b[0;34m.\u001b[0m\u001b[0mresponse\u001b[0m \u001b[0;34m=\u001b[0m \u001b[0mgetattr\u001b[0m\u001b[0;34m(\u001b[0m\u001b[0mself\u001b[0m\u001b[0;34m.\u001b[0m\u001b[0msession\u001b[0m\u001b[0;34m,\u001b[0m \u001b[0mmethod\u001b[0m\u001b[0;34m)\u001b[0m\u001b[0;34m(\u001b[0m\u001b[0muri\u001b[0m\u001b[0;34m,\u001b[0m \u001b[0;34m**\u001b[0m\u001b[0mkwargs\u001b[0m\u001b[0;34m)\u001b[0m\u001b[0;34m\u001b[0m\u001b[0;34m\u001b[0m\u001b[0m\n\u001b[0;32m--> 315\u001b[0;31m         \u001b[0;32mreturn\u001b[0m \u001b[0mself\u001b[0m\u001b[0;34m.\u001b[0m\u001b[0m_handle_response\u001b[0m\u001b[0;34m(\u001b[0m\u001b[0mself\u001b[0m\u001b[0;34m.\u001b[0m\u001b[0mresponse\u001b[0m\u001b[0;34m)\u001b[0m\u001b[0;34m\u001b[0m\u001b[0;34m\u001b[0m\u001b[0m\n\u001b[0m\u001b[1;32m    316\u001b[0m \u001b[0;34m\u001b[0m\u001b[0m\n\u001b[1;32m    317\u001b[0m     \u001b[0;34m@\u001b[0m\u001b[0mstaticmethod\u001b[0m\u001b[0;34m\u001b[0m\u001b[0;34m\u001b[0m\u001b[0m\n",
      "\u001b[0;32m~/opt/anaconda3/envs/tradingbot/lib/python3.7/site-packages/binance/client.py\u001b[0m in \u001b[0;36m_handle_response\u001b[0;34m(response)\u001b[0m\n\u001b[1;32m    322\u001b[0m         \"\"\"\n\u001b[1;32m    323\u001b[0m         \u001b[0;32mif\u001b[0m \u001b[0;32mnot\u001b[0m \u001b[0;34m(\u001b[0m\u001b[0;36m200\u001b[0m \u001b[0;34m<=\u001b[0m \u001b[0mresponse\u001b[0m\u001b[0;34m.\u001b[0m\u001b[0mstatus_code\u001b[0m \u001b[0;34m<\u001b[0m \u001b[0;36m300\u001b[0m\u001b[0;34m)\u001b[0m\u001b[0;34m:\u001b[0m\u001b[0;34m\u001b[0m\u001b[0;34m\u001b[0m\u001b[0m\n\u001b[0;32m--> 324\u001b[0;31m             \u001b[0;32mraise\u001b[0m \u001b[0mBinanceAPIException\u001b[0m\u001b[0;34m(\u001b[0m\u001b[0mresponse\u001b[0m\u001b[0;34m,\u001b[0m \u001b[0mresponse\u001b[0m\u001b[0;34m.\u001b[0m\u001b[0mstatus_code\u001b[0m\u001b[0;34m,\u001b[0m \u001b[0mresponse\u001b[0m\u001b[0;34m.\u001b[0m\u001b[0mtext\u001b[0m\u001b[0;34m)\u001b[0m\u001b[0;34m\u001b[0m\u001b[0;34m\u001b[0m\u001b[0m\n\u001b[0m\u001b[1;32m    325\u001b[0m         \u001b[0;32mtry\u001b[0m\u001b[0;34m:\u001b[0m\u001b[0;34m\u001b[0m\u001b[0;34m\u001b[0m\u001b[0m\n\u001b[1;32m    326\u001b[0m             \u001b[0;32mreturn\u001b[0m \u001b[0mresponse\u001b[0m\u001b[0;34m.\u001b[0m\u001b[0mjson\u001b[0m\u001b[0;34m(\u001b[0m\u001b[0;34m)\u001b[0m\u001b[0;34m\u001b[0m\u001b[0;34m\u001b[0m\u001b[0m\n",
      "\u001b[0;31mBinanceAPIException\u001b[0m: APIError(code=-1013): Filter failure: LOT_SIZE"
     ]
    }
   ],
   "source": [
    "if float(free_usd) > investment_amt:\n",
    "    order = client.create_order(symbol=top_coin, side='BUY',\n",
    "                                type='MARKET',quantity=buy_quantity)\n",
    "    print(order)\n",
    "    \n",
    "else:\n",
    "    print('order has not been executed. You are already invested')\n",
    "    quit()"
   ]
  },
  {
   "cell_type": "code",
   "execution_count": 104,
   "id": "1ee7d44a-92a8-403e-817b-76bc50e0c8b8",
   "metadata": {},
   "outputs": [
    {
     "ename": "NameError",
     "evalue": "name 'order' is not defined",
     "output_type": "error",
     "traceback": [
      "\u001b[0;31m---------------------------------------------------------------------------\u001b[0m",
      "\u001b[0;31mNameError\u001b[0m                                 Traceback (most recent call last)",
      "\u001b[0;32m/var/folders/6h/r_vp4zcj0sg_l_2kl6s3_csc0000gn/T/ipykernel_67075/2057375206.py\u001b[0m in \u001b[0;36m<module>\u001b[0;34m\u001b[0m\n\u001b[0;32m----> 1\u001b[0;31m \u001b[0mbuyprice\u001b[0m \u001b[0;34m=\u001b[0m \u001b[0mfloat\u001b[0m\u001b[0;34m(\u001b[0m\u001b[0morder\u001b[0m\u001b[0;34m[\u001b[0m\u001b[0;34m'fills'\u001b[0m\u001b[0;34m]\u001b[0m\u001b[0;34m[\u001b[0m\u001b[0;36m0\u001b[0m\u001b[0;34m]\u001b[0m\u001b[0;34m[\u001b[0m\u001b[0;34m'price'\u001b[0m\u001b[0;34m]\u001b[0m\u001b[0;34m)\u001b[0m\u001b[0;34m\u001b[0m\u001b[0;34m\u001b[0m\u001b[0m\n\u001b[0m",
      "\u001b[0;31mNameError\u001b[0m: name 'order' is not defined"
     ]
    }
   ],
   "source": [
    "buyprice = float(order['fills'][0]['price'])"
   ]
  },
  {
   "cell_type": "code",
   "execution_count": null,
   "id": "d5f63800-2f8f-417a-a1c5-6b58d32e84ee",
   "metadata": {},
   "outputs": [],
   "source": [
    "def createframe(msg):\n",
    "    df = pd.DataFrame([msg])\n",
    "    df = df.loc[:,['s','E','p']]\n",
    "    df.columns = ['symbol','Time','Price']\n",
    "    df.Price = df.Price.astype(float)\n",
    "    df.Time = pd.to_datetime(df.Time, unit='ms')\n",
    "    return df"
   ]
  },
  {
   "cell_type": "code",
   "execution_count": null,
   "id": "60fdc8c7-57b2-460d-9680-9bef75b31267",
   "metadata": {},
   "outputs": [],
   "source": [
    "async def main(coin):\n",
    "    bm = BinanceSocketManager(client)\n",
    "    ts = bm.trade_socket(coin)\n",
    "    async with ts as tscm:\n",
    "        while True:\n",
    "            res = await tscm.recv()\n",
    "            if res:\n",
    "                frame = createframe(res)\n",
    "                if frame.Price[0] <buyprice * 0.97 or frame.Price[0] > 1.005 * buyprice:\n",
    "                        order = client.create_order(symbol=coin,\n",
    "                        side='SELL',\n",
    "                        type='MARKET',\n",
    "                        quantity=buy_quantity)\n",
    "                        print(order)\n",
    "                        loop.stop()\n",
    "    await client.close_connection()\n",
    "                            "
   ]
  },
  {
   "cell_type": "code",
   "execution_count": null,
   "id": "6242e16e-d2b8-406c-9fb9-ad71ceaa001c",
   "metadata": {},
   "outputs": [],
   "source": [
    "if __name__==\"__main__\":\n",
    "    \n",
    "    loop = asyncio.get_event_loop()\n",
    "    loop.run_until_complete(main(top_coin))"
   ]
  },
  {
   "cell_type": "code",
   "execution_count": null,
   "id": "1a374500-92c7-40ab-a78f-1f1e0c190513",
   "metadata": {},
   "outputs": [],
   "source": []
  }
 ],
 "metadata": {
  "kernelspec": {
   "display_name": "Python 3 (ipykernel)",
   "language": "python",
   "name": "python3"
  },
  "language_info": {
   "codemirror_mode": {
    "name": "ipython",
    "version": 3
   },
   "file_extension": ".py",
   "mimetype": "text/x-python",
   "name": "python",
   "nbconvert_exporter": "python",
   "pygments_lexer": "ipython3",
   "version": "3.7.11"
  }
 },
 "nbformat": 4,
 "nbformat_minor": 5
}

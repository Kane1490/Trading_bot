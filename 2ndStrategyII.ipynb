{
 "cells": [
  {
   "cell_type": "code",
   "execution_count": 3,
   "id": "af058a33-5d76-4508-919f-2c985d4866d0",
   "metadata": {},
   "outputs": [],
   "source": [
    "import sqlalchemy\n",
    "import pandas as pd\n",
    "from binance.client import Client"
   ]
  },
  {
   "cell_type": "code",
   "execution_count": 4,
   "id": "1e8bbf4f-05b3-438e-9f8e-e405049db730",
   "metadata": {},
   "outputs": [],
   "source": [
    "%run ../Binance_keys.ipynb"
   ]
  },
  {
   "cell_type": "code",
   "execution_count": 6,
   "id": "35f85528-9dbe-40fd-96cd-7e8094c45b48",
   "metadata": {},
   "outputs": [],
   "source": [
    "client = Client(api_key,api_secret)"
   ]
  },
  {
   "cell_type": "code",
   "execution_count": 7,
   "id": "c8169644-bf8a-4d4a-953d-d1e1fa20553e",
   "metadata": {},
   "outputs": [],
   "source": [
    "engine = sqlalchemy.create_engine('sqlite:///BTCBUSDstream.db')"
   ]
  },
  {
   "cell_type": "code",
   "execution_count": 8,
   "id": "eeaf8081-cf89-42de-9cff-7507c2e86551",
   "metadata": {},
   "outputs": [],
   "source": [
    "#Trendfollowing\n",
    "#if the crypto was rising by 0.15% -> Buy\n",
    "#exit when profit is above 0.15% or loss is crossing -0.15%"
   ]
  },
  {
   "cell_type": "code",
   "execution_count": 9,
   "id": "83bbaa62-c87f-4b0b-9158-570989abd799",
   "metadata": {},
   "outputs": [],
   "source": [
    "def strategy(entry, lookback, qty, open_position=False):\n",
    "    while True:\n",
    "        df = pd.read_sql('BTCBUSD', engine)\n",
    "        lookbackperiod = df.iloc[-lookback:]\n",
    "        cumret = (lookbackperiod.Price.pct_change() +1).cumprod() - 1\n",
    "        if not open_position:\n",
    "            if cumret[cumret.last_valid_index()] > entry:\n",
    "                order = client.create_order(symbol='BTCBUSD',\n",
    "                                           side='BUY',\n",
    "                                           type='MARKET',\n",
    "                                           quantity=qty)\n",
    "                print(order)\n",
    "                open_position = True\n",
    "                break\n",
    "    if open_position:\n",
    "        while True:\n",
    "            df = pd.read_sql('BTCBUSD', engine)\n",
    "            sincebuy = df.loc[df.Time > \n",
    "                              pd.to_datetime(order['transactTime'],\n",
    "                                            unit='ms')]\n",
    "            if len(sincebuy) > 1:\n",
    "                sincebuyret = (sincebuy.Price.pct_change() +1).cumprod() - 1\n",
    "                last_entry = sincebuyret[sincebuyret.last_valid_index()]\n",
    "                if last_entry > 0.0015 or last_entry < -0.0015:\n",
    "                    order = client.create_order(symbol=pair,\n",
    "                                           side='SELL',\n",
    "                                           type='MARKET',\n",
    "                                           quantity=qty)\n",
    "                    print(order)\n",
    "                    break"
   ]
  },
  {
   "cell_type": "code",
   "execution_count": null,
   "id": "519056e3-96ef-4352-a74f-1e2db397fb1d",
   "metadata": {},
   "outputs": [],
   "source": [
    "strategy(0.001, 60, 0.001)"
   ]
  },
  {
   "cell_type": "code",
   "execution_count": null,
   "id": "ef648f85-07b9-4903-b234-3ec62175f9fd",
   "metadata": {},
   "outputs": [],
   "source": []
  }
 ],
 "metadata": {
  "kernelspec": {
   "display_name": "Python 3 (ipykernel)",
   "language": "python",
   "name": "python3"
  },
  "language_info": {
   "codemirror_mode": {
    "name": "ipython",
    "version": 3
   },
   "file_extension": ".py",
   "mimetype": "text/x-python",
   "name": "python",
   "nbconvert_exporter": "python",
   "pygments_lexer": "ipython3",
   "version": "3.7.11"
  }
 },
 "nbformat": 4,
 "nbformat_minor": 5
}
